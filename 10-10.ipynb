{
 "cells": [
  {
   "cell_type": "code",
   "execution_count": 4,
   "id": "f054a78d",
   "metadata": {},
   "outputs": [
    {
     "name": "stdout",
     "output_type": "stream",
     "text": [
      "Year\n",
      "Month\n",
      "Day\n",
      "Country\n",
      "Region\n",
      "city\n",
      "latitude\n",
      "longitude\n",
      "AttackType\n",
      "Killed\n",
      "Wounded\n",
      "Target\n",
      "Group\n",
      "Target_type\n",
      "Weapon_type\n",
      "casualities\n"
     ]
    }
   ],
   "source": [
    "import csv\n",
    "with open('C://Users//Yashita//Desktop//Assignments[DS]//year2017.csv') as file_obj:\n",
    "    file_data = csv.reader(file_obj)\n",
    "    l=list(file_data)\n",
    "    for i in l[0]:\n",
    "        print(i)\n",
    "    "
   ]
  },
  {
   "cell_type": "code",
   "execution_count": null,
   "id": "b81bd807",
   "metadata": {},
   "outputs": [],
   "source": []
  },
  {
   "cell_type": "code",
   "execution_count": null,
   "id": "535acde0",
   "metadata": {},
   "outputs": [],
   "source": []
  },
  {
   "cell_type": "code",
   "execution_count": null,
   "id": "53ad3287",
   "metadata": {},
   "outputs": [],
   "source": []
  },
  {
   "cell_type": "code",
   "execution_count": null,
   "id": "d5811f7a",
   "metadata": {},
   "outputs": [],
   "source": []
  }
 ],
 "metadata": {
  "kernelspec": {
   "display_name": "Python 3 (ipykernel)",
   "language": "python",
   "name": "python3"
  },
  "language_info": {
   "codemirror_mode": {
    "name": "ipython",
    "version": 3
   },
   "file_extension": ".py",
   "mimetype": "text/x-python",
   "name": "python",
   "nbconvert_exporter": "python",
   "pygments_lexer": "ipython3",
   "version": "3.11.4"
  }
 },
 "nbformat": 4,
 "nbformat_minor": 5
}
