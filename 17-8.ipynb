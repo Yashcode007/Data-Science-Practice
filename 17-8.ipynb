{
 "cells": [
  {
   "cell_type": "code",
   "execution_count": 16,
   "id": "382f79df",
   "metadata": {},
   "outputs": [
    {
     "name": "stdout",
     "output_type": "stream",
     "text": [
      "\n",
      "Your IP 182.69.225.27 needs to be whitelisted\n",
      "<class 'requests.structures.CaseInsensitiveDict'>\n",
      "46\n"
     ]
    }
   ],
   "source": [
    "import requests\n",
    "response = requests.get(' https://mausam.imd.gov.in/api/current_wx_api.php?id=42182') \n",
    "#print(response.status_code)\n",
    "#print(response.encoding)\n",
    "print(response.text)\n",
    "#print(response.url)\n",
    "print(type(response.headers))\n",
    "#print(response.headers)\n",
    "#header_info=response.headers\n",
    "#print(header_info['Date'])\n",
    "print(header_info['content-Length'])\n",
    "#print(header_info['Content-type'])"
   ]
  },
  {
   "cell_type": "code",
   "execution_count": null,
   "id": "ccbceeb6",
   "metadata": {},
   "outputs": [],
   "source": []
  }
 ],
 "metadata": {
  "kernelspec": {
   "display_name": "Python 3 (ipykernel)",
   "language": "python",
   "name": "python3"
  },
  "language_info": {
   "codemirror_mode": {
    "name": "ipython",
    "version": 3
   },
   "file_extension": ".py",
   "mimetype": "text/x-python",
   "name": "python",
   "nbconvert_exporter": "python",
   "pygments_lexer": "ipython3",
   "version": "3.11.4"
  }
 },
 "nbformat": 4,
 "nbformat_minor": 5
}
