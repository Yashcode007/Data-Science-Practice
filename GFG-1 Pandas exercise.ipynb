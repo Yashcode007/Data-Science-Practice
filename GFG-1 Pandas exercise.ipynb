{
 "cells": [
  {
   "cell_type": "code",
   "execution_count": 1,
   "id": "2f4551ab",
   "metadata": {},
   "outputs": [
    {
     "name": "stdout",
     "output_type": "stream",
     "text": [
      "                0\n",
      "0           Geeks\n",
      "1            Yash\n",
      "2  Data Scientist\n",
      "3      Successful\n"
     ]
    }
   ],
   "source": [
    "#Function used-> pd.DataFrame\n",
    "import pandas as pd \n",
    "\n",
    "lst=['Geeks','Yash','Data Scientist','Successful']\n",
    "df = pd.DataFrame(lst)    \n",
    "print(df)"
   ]
  },
  {
   "cell_type": "code",
   "execution_count": 2,
   "id": "180a6f9c",
   "metadata": {},
   "outputs": [
    {
     "name": "stdout",
     "output_type": "stream",
     "text": [
      "     name  degree  score\n",
      "0  aparna     MBA     90\n",
      "1  pankaj     BCA     40\n",
      "2  sudhir  M.Tech     80\n",
      "3   Geeku     MBA     98\n"
     ]
    }
   ],
   "source": [
    "#Create DataFrame from List using Dictionary\n",
    "\n",
    "import pandas as pd\n",
    "# list of name, degree, score\n",
    "nme = [\"aparna\", \"pankaj\", \"sudhir\", \"Geeku\"]\n",
    "deg = [\"MBA\", \"BCA\", \"M.Tech\", \"MBA\"]\n",
    "scr = [90, 40, 80, 98]\n",
    "\n",
    "#dictionary of lists\n",
    "dict={'name':nme, 'degree':deg, 'score':scr}\n",
    "\n",
    "df = pd.DataFrame(dict)\n",
    "\n",
    "print(df)"
   ]
  },
  {
   "cell_type": "code",
   "execution_count": 3,
   "id": "d2982c5c",
   "metadata": {},
   "outputs": [
    {
     "name": "stdout",
     "output_type": "stream",
     "text": [
      "   0  1  2  3\n",
      "0  1  2  3  4\n",
      "1  5  6  7  9\n"
     ]
    }
   ],
   "source": [
    "import pandas as pd\n",
    "\n",
    "list = [[1,2,3,4],[5,6,7,9]]\n",
    "df = pd.DataFrame(list)\n",
    "print(df)"
   ]
  },
  {
   "cell_type": "code",
   "execution_count": 5,
   "id": "f5b48572",
   "metadata": {},
   "outputs": [
    {
     "name": "stdout",
     "output_type": "stream",
     "text": [
      "       Name  Age\n",
      "0      Yash   23\n",
      "1  Abhishek   22\n",
      "2     Rohit   15\n"
     ]
    }
   ],
   "source": [
    "import pandas as pd\n",
    "\n",
    "list = [['Yash',23],['Abhishek',22],['Rohit',15]]\n",
    "\n",
    "df = pd.DataFrame(list,columns=['Name','Age'])\n",
    "print(df)"
   ]
  },
  {
   "cell_type": "code",
   "execution_count": 9,
   "id": "0cf73dcb",
   "metadata": {},
   "outputs": [
    {
     "name": "stdout",
     "output_type": "stream",
     "text": [
      "    Name  Age        Occupation\n",
      "0   Yash   23    Data Scientist\n",
      "1  Harsh   22  Business Analyst\n"
     ]
    }
   ],
   "source": [
    "import pandas as pd\n",
    "data = [['Yash', 23, 'Data Scientist'],['Harsh', 22, 'Business Analyst']]\n",
    "column = ['Name','Age','Occupation']\n",
    "df = pd.DataFrame.from_records(data, columns=column)\n",
    "print(df)"
   ]
  },
  {
   "cell_type": "code",
   "execution_count": 10,
   "id": "41dd915b",
   "metadata": {},
   "outputs": [
    {
     "name": "stdout",
     "output_type": "stream",
     "text": [
      "  Category  Marks\n",
      "0  General     99\n",
      "1      OBC     80\n",
      "2    SC/ST     50\n"
     ]
    }
   ],
   "source": [
    "import pandas as pd\n",
    "\n",
    "data = {'Category':['General','OBC','SC/ST'],\n",
    "        'Marks':[99,80,50]}\n",
    "\n",
    "df=pd.DataFrame(data)\n",
    "print(df)"
   ]
  },
  {
   "cell_type": "code",
   "execution_count": 13,
   "id": "18be45dd",
   "metadata": {},
   "outputs": [
    {
     "name": "stdout",
     "output_type": "stream",
     "text": [
      "        Area  Student_1  Student_2\n",
      "Cat_1  Array         20         15\n",
      "Cat_2  Stack         21         20\n",
      "Cat_3  Queue         19         24\n"
     ]
    }
   ],
   "source": [
    "import pandas as pd\n",
    "\n",
    "data = {'Area':['Array','Stack','Queue'], 'Student_1':[20,21,19], 'Student_2':[15,20,24]}\n",
    "index1 = ['Cat_1','Cat_2','Cat_3']\n",
    "df = pd.DataFrame(data, index=index1)\n",
    "print(df)"
   ]
  },
  {
   "cell_type": "code",
   "execution_count": 14,
   "id": "2de662c3",
   "metadata": {},
   "outputs": [
    {
     "name": "stdout",
     "output_type": "stream",
     "text": [
      "    Name  Age  Score\n",
      "0  Peter   18      7\n",
      "1   Riff   15      6\n",
      "2   John   17      8\n"
     ]
    }
   ],
   "source": [
    "#Creating dataframe using tuples \n",
    "import pandas as pd\n",
    "\n",
    "data = [('Peter',18,7),\n",
    "       ('Riff',15,6),\n",
    "       ('John',17,8)]\n",
    "\n",
    "df=pd.DataFrame(data,columns=['Name','Age','Score'])\n",
    "\n",
    "print(df)"
   ]
  },
  {
   "cell_type": "code",
   "execution_count": 15,
   "id": "5b92ecd2",
   "metadata": {},
   "outputs": [
    {
     "ename": "SyntaxError",
     "evalue": "invalid syntax (3267063435.py, line 2)",
     "output_type": "error",
     "traceback": [
      "\u001b[1;36m  Cell \u001b[1;32mIn[15], line 2\u001b[1;36m\u001b[0m\n\u001b[1;33m    For example ->\u001b[0m\n\u001b[1;37m        ^\u001b[0m\n\u001b[1;31mSyntaxError\u001b[0m\u001b[1;31m:\u001b[0m invalid syntax\n"
     ]
    }
   ],
   "source": [
    "#We can also create the data fram by using from_records() function \n",
    "# For example ->\n",
    "# df = pd.DataFrame.from_records(data,columns=['Team','Age','Score'])\n",
    "# print(df)\n"
   ]
  },
  {
   "cell_type": "code",
   "execution_count": 17,
   "id": "f0d8f456",
   "metadata": {},
   "outputs": [
    {
     "name": "stdout",
     "output_type": "stream",
     "text": [
      "       Geeks    For geeks  list\n",
      "1  dataframe  using  list   NaN\n",
      "2         10     20   NaN  30.0\n"
     ]
    }
   ],
   "source": [
    "#Creating data frame using list of dictionaries\n",
    "import pandas as pd\n",
    "\n",
    "data=[{'Geeks':'dataframe','For':'using','geeks':'list'},\n",
    "     {'Geeks':10, 'For':20 , 'list':30}]\n",
    "\n",
    "df = pd.DataFrame.from_records(data,index=[1,2])\n",
    "print(df)"
   ]
  },
  {
   "cell_type": "code",
   "execution_count": 19,
   "id": "9ffcf4e0",
   "metadata": {},
   "outputs": [
    {
     "name": "stdout",
     "output_type": "stream",
     "text": [
      "          Geeks    For\n",
      "ind1  dataframe  using\n",
      "ind2         10     20\n",
      "          Geeks    For      Geeks\n",
      "indx  dataframe  using  dataframe\n",
      "indy         10     20         10\n"
     ]
    }
   ],
   "source": [
    "import pandas as pd\n",
    "data = [{'Geeks':'dataframe','For':'using'},{'Geeks':10 , 'For':20}]\n",
    "\n",
    "df1 = pd.DataFrame(data,index=['ind1','ind2'])\n",
    "\n",
    "df2 = pd.DataFrame(data,index=['indx','indy'],columns=['Geeks','For','Geeks'])\n",
    "\n",
    "print(df1)\n",
    "\n",
    "print(df2)"
   ]
  },
  {
   "cell_type": "code",
   "execution_count": 21,
   "id": "6e9e1880",
   "metadata": {},
   "outputs": [
    {
     "name": "stdout",
     "output_type": "stream",
     "text": [
      "         Country        Capital  Population\n",
      "1  New Country 1  New Capital 1   123456789\n",
      "2  New Country 2  New Capital 2   987654321\n",
      "3   New Country3  New Capital 3   111222333\n"
     ]
    }
   ],
   "source": [
    "#nested Dictionaries in Panda DataFrame\n",
    "import pandas as pd\n",
    "\n",
    "data = [{'Country': 'New Country 1' , 'Capital':'New Capital 1', 'Population': 123456789},\n",
    "       {'Country':'New Country 2','Capital':'New Capital 2','Population':987654321},\n",
    "       {'Country':'New Country3','Capital':'New Capital 3','Population':111222333}]\n",
    "\n",
    "df = pd.DataFrame(data, index=[1,2,3])\n",
    "print(df)"
   ]
  },
  {
   "cell_type": "code",
   "execution_count": 36,
   "id": "dd77ceeb",
   "metadata": {},
   "outputs": [
    {
     "name": "stdout",
     "output_type": "stream",
     "text": [
      "   Exam Grade           Name\n",
      "1    90     a     Paras Jain\n",
      "2    99     b     Paras Jain\n",
      "3    97     c     Paras Jain\n",
      "4    89     a  Chunky Pandey\n",
      "5    80     b  Chunky Pandey\n"
     ]
    }
   ],
   "source": [
    "import pandas as pd\n",
    "\n",
    "list = [{\n",
    "        \"Student\": [{\"Exam\": 90, \"Grade\": \"a\"},\n",
    "                    {\"Exam\": 99, \"Grade\": \"b\"},\n",
    "                    {\"Exam\": 97, \"Grade\": \"c\"},\n",
    "                    ],\n",
    "        \"Name\": \"Paras Jain\"\n",
    "        },\n",
    "        {\n",
    "        \"Student\": [{\"Exam\": 89, \"Grade\": \"a\"},\n",
    "                    {\"Exam\": 80, \"Grade\": \"b\"}\n",
    "                    ],\n",
    "        \"Name\": \"Chunky Pandey\"\n",
    "        }\n",
    "        ]\n",
    "\n",
    "rows = []\n",
    "for data in list:\n",
    "    data_row = data['Student']\n",
    "#     print(data_row)\n",
    "    time=data['Name']\n",
    "#     print(time)\n",
    "    for row in data_row:\n",
    "        row['Name'] = time\n",
    "#         print(row)\n",
    "        rows.append(row)\n",
    "#         print(rows)\n",
    "        \n",
    "\n",
    "df = pd.DataFrame(rows, index=[1,2,3,4,5])\n",
    "\n",
    "print(df)"
   ]
  },
  {
   "cell_type": "code",
   "execution_count": 30,
   "id": "e4a9c47c",
   "metadata": {},
   "outputs": [
    {
     "name": "stdout",
     "output_type": "stream",
     "text": [
      "            Name  Maths  Physics  Chemistry\n",
      "0  Chunky Pandey   89.0     80.0        NaN\n",
      "1     Paras Jain   90.0     99.0       97.0\n"
     ]
    }
   ],
   "source": [
    "#using pivot table\n",
    "df = df.pivot_table(index='Name',columns=['Grade'],values=['Exam']).reset_index()\n",
    "\n",
    "#defining columns\n",
    "df.columns = ['Name','Maths','Physics','Chemistry']\n",
    "\n",
    "#print dataframe\n",
    "# print(df)"
   ]
  },
  {
   "cell_type": "code",
   "execution_count": null,
   "id": "34c20fed",
   "metadata": {},
   "outputs": [],
   "source": []
  }
 ],
 "metadata": {
  "kernelspec": {
   "display_name": "Python 3 (ipykernel)",
   "language": "python",
   "name": "python3"
  },
  "language_info": {
   "codemirror_mode": {
    "name": "ipython",
    "version": 3
   },
   "file_extension": ".py",
   "mimetype": "text/x-python",
   "name": "python",
   "nbconvert_exporter": "python",
   "pygments_lexer": "ipython3",
   "version": "3.11.4"
  }
 },
 "nbformat": 4,
 "nbformat_minor": 5
}
