{
 "cells": [
  {
   "cell_type": "code",
   "execution_count": 5,
   "id": "74e26037",
   "metadata": {},
   "outputs": [
    {
     "name": "stdout",
     "output_type": "stream",
     "text": [
      "[0, 1, 4]\n"
     ]
    }
   ],
   "source": [
    "import numpy as np\n",
    "a=[1,2,0,0,4,0]\n",
    "b=np.array(a)\n",
    "new_arr=[]\n",
    "for i in range(len(a)):\n",
    "    if(b[i]>0):\n",
    "        new_arr.append(i)\n",
    "    \n",
    "print(new_arr)"
   ]
  },
  {
   "cell_type": "code",
   "execution_count": 8,
   "id": "ace46831",
   "metadata": {},
   "outputs": [
    {
     "name": "stdout",
     "output_type": "stream",
     "text": [
      "(array([0, 1, 4], dtype=int64),)\n",
      "[0 1 4]\n",
      "0 1 4\n"
     ]
    }
   ],
   "source": [
    "import numpy as np\n",
    "arr=np.array([1,2,0,0,4,0])\n",
    "ind=np.where(arr!=0)\n",
    "print(ind)\n",
    "print(ind[0])\n",
    "print(*ind[0])"
   ]
  },
  {
   "cell_type": "code",
   "execution_count": null,
   "id": "3cf4f791",
   "metadata": {},
   "outputs": [],
   "source": []
  }
 ],
 "metadata": {
  "kernelspec": {
   "display_name": "Python 3 (ipykernel)",
   "language": "python",
   "name": "python3"
  },
  "language_info": {
   "codemirror_mode": {
    "name": "ipython",
    "version": 3
   },
   "file_extension": ".py",
   "mimetype": "text/x-python",
   "name": "python",
   "nbconvert_exporter": "python",
   "pygments_lexer": "ipython3",
   "version": "3.11.4"
  }
 },
 "nbformat": 4,
 "nbformat_minor": 5
}
