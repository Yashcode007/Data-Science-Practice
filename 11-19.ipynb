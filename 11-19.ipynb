{
 "cells": [
  {
   "cell_type": "code",
   "execution_count": null,
   "id": "9aa4a65d",
   "metadata": {},
   "outputs": [],
   "source": [
    "print(input_[2][:2])"
   ]
  },
  {
   "cell_type": "code",
   "execution_count": null,
   "id": "7015e128",
   "metadata": {},
   "outputs": [],
   "source": [
    "print(input_[1:3][3])"
   ]
  },
  {
   "cell_type": "code",
   "execution_count": null,
   "id": "21bfdcd6",
   "metadata": {},
   "outputs": [],
   "source": [
    "print(input_[2:3][:4])"
   ]
  },
  {
   "cell_type": "code",
   "execution_count": null,
   "id": "865f5394",
   "metadata": {},
   "outputs": [],
   "source": [
    "print(input_[1:2][1:2])"
   ]
  },
  {
   "cell_type": "code",
   "execution_count": 7,
   "id": "28941a9a",
   "metadata": {},
   "outputs": [
    {
     "name": "stdout",
     "output_type": "stream",
     "text": [
      "11 12 13\n",
      "9 14 19\n",
      "11 12 13 14 15 16 17 18 19 20 "
     ]
    }
   ],
   "source": [
    "import numpy as np\n",
    "input_=np.arange(1,21,1)\n",
    "input_=input_.reshape(4,5)\n",
    "print(*input_[2,:3])\n",
    "\n",
    "print(*input_[1:4,3])\n",
    "\n",
    "c=input_[2:4,:5]\n",
    "print(*c[0],end=' ')\n",
    "print(*c[1],end=' ')"
   ]
  },
  {
   "cell_type": "code",
   "execution_count": null,
   "id": "30e530ac",
   "metadata": {},
   "outputs": [],
   "source": []
  }
 ],
 "metadata": {
  "kernelspec": {
   "display_name": "Python 3 (ipykernel)",
   "language": "python",
   "name": "python3"
  },
  "language_info": {
   "codemirror_mode": {
    "name": "ipython",
    "version": 3
   },
   "file_extension": ".py",
   "mimetype": "text/x-python",
   "name": "python",
   "nbconvert_exporter": "python",
   "pygments_lexer": "ipython3",
   "version": "3.11.4"
  }
 },
 "nbformat": 4,
 "nbformat_minor": 5
}
