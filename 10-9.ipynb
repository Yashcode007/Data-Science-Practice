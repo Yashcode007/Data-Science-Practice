{
 "cells": [
  {
   "cell_type": "code",
   "execution_count": 10,
   "id": "580d5d32",
   "metadata": {},
   "outputs": [
    {
     "name": "stdout",
     "output_type": "stream",
     "text": [
      "201712AfghanistanSouth AsiaTakhta Pul31.32055665.961111Hostage Taking (Kidnapping)0.00.0Construction WorkersTalibanBusinessFirearms0.0\n",
      "201713SudanSub-Saharan AfricaFantaga12.92100700000000124.318324Armed Assault2.00.0Civilians: Haroun Yousif, Hamid IbrahimUnknownPrivate Citizens & PropertyFirearms2.0\n",
      "201711Democratic Republic of the CongoSub-Saharan AfricaSaboko1.45237229.875162Armed Assault7.00.0VillageAllied Democratic Forces (ADF)Private Citizens & PropertyMelee7.0\n"
     ]
    }
   ],
   "source": [
    "import csv\n",
    "with open('C://Users//Yashita//Desktop//Assignments[DS]//year2017.csv','r') as file_obj:\n",
    "    file_name=csv.reader(file_obj)\n",
    "    file_name=list(file_name)\n",
    "    for i in range(1,4):\n",
    "        for j in file_name[i]:\n",
    "            print(j,end='')\n",
    "        print()"
   ]
  },
  {
   "cell_type": "code",
   "execution_count": null,
   "id": "fb56130f",
   "metadata": {},
   "outputs": [],
   "source": []
  }
 ],
 "metadata": {
  "kernelspec": {
   "display_name": "Python 3 (ipykernel)",
   "language": "python",
   "name": "python3"
  },
  "language_info": {
   "codemirror_mode": {
    "name": "ipython",
    "version": 3
   },
   "file_extension": ".py",
   "mimetype": "text/x-python",
   "name": "python",
   "nbconvert_exporter": "python",
   "pygments_lexer": "ipython3",
   "version": "3.11.4"
  }
 },
 "nbformat": 4,
 "nbformat_minor": 5
}
